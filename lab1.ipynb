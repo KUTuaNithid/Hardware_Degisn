{
  "nbformat": 4,
  "nbformat_minor": 0,
  "metadata": {
    "colab": {
      "name": "lab1.ipynb",
      "provenance": [],
      "collapsed_sections": [],
      "toc_visible": true,
      "include_colab_link": true
    },
    "kernelspec": {
      "name": "python3",
      "display_name": "Python 3"
    },
    "accelerator": "GPU"
  },
  "cells": [
    {
      "cell_type": "markdown",
      "metadata": {
        "id": "view-in-github",
        "colab_type": "text"
      },
      "source": [
        "<a href=\"https://colab.research.google.com/github/KUTuaNithid/Hardware_Degisn/blob/main/lab1.ipynb\" target=\"_parent\"><img src=\"https://colab.research.google.com/assets/colab-badge.svg\" alt=\"Open In Colab\"/></a>"
      ]
    },
    {
      "cell_type": "code",
      "metadata": {
        "id": "pdvZUSq-XSdS"
      },
      "source": [
        "!pip install flask\n",
        "!pip install flask_cors"
      ],
      "execution_count": null,
      "outputs": []
    },
    {
      "cell_type": "code",
      "metadata": {
        "id": "ANZC7w27rtTS"
      },
      "source": [
        "!git clone https://github.com/fllay/lab.git"
      ],
      "execution_count": null,
      "outputs": []
    },
    {
      "cell_type": "code",
      "metadata": {
        "id": "U2CIOfcRXwHf"
      },
      "source": [
        "from flask import Flask, render_template, request, abort, jsonify, send_file\n",
        "from flask_cors import CORS\n",
        "import os\n",
        "TEMPLATE_DIR = os.path.abspath('./lab/lab1')\n",
        "\n",
        "app = Flask(__name__, template_folder=TEMPLATE_DIR)\n",
        "#CORS(app)\n",
        "\n",
        "@app.route('/')\n",
        "def index():\n",
        "    return render_template('index.html')\n",
        "    #return 'Web App with Python Flask!'\n",
        "\n",
        "@app.route('/hello', methods=['GET'])\n",
        "def hello():\n",
        "    print(\"hello called\")\n",
        "    message = {\n",
        "          'message': \"Hello world222\"\n",
        "    }\n",
        "    return jsonify(message)\n",
        "\n",
        "from google.colab.output import eval_js\n",
        "print(eval_js(\"google.colab.kernel.proxyPort(5000)\"))\n",
        "app.run(host='0.0.0.0', port=5000)\n",
        "\n",
        "\n"
      ],
      "execution_count": null,
      "outputs": []
    },
    {
      "cell_type": "markdown",
      "metadata": {
        "id": "UKqT6FvYofNn"
      },
      "source": [
        "# Exercise"
      ]
    },
    {
      "cell_type": "markdown",
      "metadata": {
        "id": "7BxLM0YJ4fE6"
      },
      "source": [
        "\n",
        "\n",
        "*   Return tensorflow version in route `/hello`\n",
        "*   Flask is a web application framework. Please try to find a way to write a POST method and write an API to add two number. You can test the API using `axois` in the html file. Please test the API in index.html file. \n",
        "\n"
      ]
    }
  ]
}